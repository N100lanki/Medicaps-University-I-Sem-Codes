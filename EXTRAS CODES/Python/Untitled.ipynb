{
 "cells": [
  {
   "cell_type": "code",
   "execution_count": 2,
   "metadata": {},
   "outputs": [
    {
     "ename": "ValueError",
     "evalue": "invalid literal for int() with base 10: '011.'",
     "output_type": "error",
     "traceback": [
      "\u001b[1;31m---------------------------------------------------------------------------\u001b[0m",
      "\u001b[1;31mValueError\u001b[0m                                Traceback (most recent call last)",
      "\u001b[1;32mc:\\Ranjan\\MCU1semDS\\MYCODES\\Python\\Untitled.ipynb Cell 1'\u001b[0m in \u001b[0;36m<cell line: 4>\u001b[1;34m()\u001b[0m\n\u001b[0;32m      <a href='vscode-notebook-cell:/c%3A/Ranjan/MCU1semDS/MYCODES/Python/Untitled.ipynb#ch0000000?line=0'>1</a>\u001b[0m \u001b[39m#Area of Circle\u001b[39;00m\n\u001b[0;32m      <a href='vscode-notebook-cell:/c%3A/Ranjan/MCU1semDS/MYCODES/Python/Untitled.ipynb#ch0000000?line=1'>2</a>\u001b[0m pi\u001b[39m=\u001b[39m\u001b[39m3.14\u001b[39m\n\u001b[1;32m----> <a href='vscode-notebook-cell:/c%3A/Ranjan/MCU1semDS/MYCODES/Python/Untitled.ipynb#ch0000000?line=3'>4</a>\u001b[0m radii\u001b[39m=\u001b[39m\u001b[39mint\u001b[39m(\u001b[39minput\u001b[39m(\u001b[39m\"\u001b[39m\u001b[39mEnter Radius of Circle : \u001b[39m\u001b[39m\"\u001b[39m))\n\u001b[0;32m      <a href='vscode-notebook-cell:/c%3A/Ranjan/MCU1semDS/MYCODES/Python/Untitled.ipynb#ch0000000?line=4'>5</a>\u001b[0m \u001b[39mprint\u001b[39m(\u001b[39m\"\u001b[39m\u001b[39mArea of Circle is : \u001b[39m\u001b[39m\"\u001b[39m,pi\u001b[39m*\u001b[39mradii\u001b[39m*\u001b[39m\u001b[39m*\u001b[39m\u001b[39m2\u001b[39m)\n",
      "\u001b[1;31mValueError\u001b[0m: invalid literal for int() with base 10: '011.'"
     ]
    }
   ],
   "source": [
    "#Area of Circle\n",
    "pi=3.14\n",
    "\n",
    "radii=int(input(\"Enter Radius of Circle : \"))\n",
    "print(\"Area of Circle is : \",pi*radii**2)\n",
    "    "
   ]
  },
  {
   "cell_type": "code",
   "execution_count": null,
   "metadata": {},
   "outputs": [],
   "source": [
    "#swap of vars\n",
    "x,y=\"Number one\",\"Number two\"\n",
    "print(\"Before Swapping : \",x,y)\n",
    "x,y=y,x\n",
    "print(\"After Swapping : \",x,y)"
   ]
  },
  {
   "cell_type": "code",
   "execution_count": null,
   "metadata": {},
   "outputs": [],
   "source": [
    "#perimeter of rectangle\n",
    "l,w=input(\"Enter Length and width : \").split()\n",
    "\n",
    "print(\"Perimeter of Rectangle is : \",2*(float(l)+float(w)))"
   ]
  },
  {
   "cell_type": "code",
   "execution_count": null,
   "metadata": {},
   "outputs": [],
   "source": [
    "#Circumference of Circle\n",
    "pi=3.14\n",
    "\n",
    "radii=int(input(\"Enter Radius of Circle : \"))\n",
    "print(\"Circumference of Circle is : \",2*pi*radii)\n",
    "    "
   ]
  },
  {
   "cell_type": "markdown",
   "metadata": {},
   "source": [
    "##### "
   ]
  },
  {
   "cell_type": "code",
   "execution_count": null,
   "metadata": {},
   "outputs": [],
   "source": [
    "import keyword\n",
    "keyword.kwlist\n",
    "\n"
   ]
  },
  {
   "cell_type": "code",
   "execution_count": null,
   "metadata": {},
   "outputs": [],
   "source": [
    "n=10\n",
    "print(n,\" is of type \",type(n))\n",
    "n=\"Str\"\n",
    "print(n+\" is of type \",type(n))\n",
    "n=True\n",
    "print(n,\"is of type \",type(n))\n",
    "n=234.653\n",
    "print(n,\"is of type \",type(n))\n",
    "n=3j+2\n",
    "print(n,\"is of type \",type(n))"
   ]
  },
  {
   "cell_type": "code",
   "execution_count": 1,
   "metadata": {},
   "outputs": [
    {
     "name": "stdout",
     "output_type": "stream",
     "text": [
      "200  in decimal is   200\n",
      "200  in binary is   0b11001000\n",
      "200  in octal is   0o310\n",
      "200  in hexadecimal is   0xc8\n",
      "\n",
      "171  in decimal is   171\n",
      "171  in binary is   0b10101011\n",
      "171  in octal is   0o253\n",
      "171  in hexadecimal is   0xab\n",
      "\n",
      "149  in decimal is   149\n",
      "149  in binary is   0b10010101\n",
      "149  in octal is   0o225\n",
      "149  in hexadecimal is   0x95\n",
      "\n",
      "2802990  in decimal is   2802990\n",
      "2802990  in binary is   0b1010101100010100101110\n",
      "2802990  in octal is   0o12542456\n",
      "2802990  in hexadecimal is   0x2ac52e\n"
     ]
    }
   ],
   "source": [
    "n =200\n",
    "print(n,\" in decimal is  \",n)\n",
    "print(n,\" in binary is  \",bin(n))\n",
    "print(n,\" in octal is  \",oct(n))\n",
    "print(n,\" in hexadecimal is  \",hex(n))\n",
    "print()\n",
    "n=0xAB\n",
    "print(n,\" in decimal is  \",n)\n",
    "print(n,\" in binary is  \",bin(n))\n",
    "print(n,\" in octal is  \",oct(n))\n",
    "print(n,\" in hexadecimal is  \",hex(n))\n",
    "print()\n",
    "n=0b10010101\n",
    "print(n,\" in decimal is  \",n)\n",
    "print(n,\" in binary is  \",bin(n))\n",
    "print(n,\" in octal is  \",oct(n))\n",
    "print(n,\" in hexadecimal is  \",hex(n))\n",
    "print()\n",
    "n=0o12542456\n",
    "print(n,\" in decimal is  \",n)\n",
    "print(n,\" in binary is  \",bin(n))\n",
    "print(n,\" in octal is  \",oct(n))\n",
    "print(n,\" in hexadecimal is  \",hex(n))"
   ]
  },
  {
   "cell_type": "code",
   "execution_count": 8,
   "metadata": {},
   "outputs": [
    {
     "name": "stdout",
     "output_type": "stream",
     "text": [
      "What do you want to convert F or C :g\n",
      "Enter correct choice : \n"
     ]
    }
   ],
   "source": [
    "\n",
    "ch=input(\"What do you want to convert F or C :\")\n",
    "if(ch==\"F\" or ch==\"f\"):\n",
    "    fahrenheit=float(input(\"Enter temperature in fahrenheit: \"))\n",
    "    print(\"Temperature in Celcius is :\",(fahrenheit-32)*5/9)\n",
    "elif(ch==\"C\" or ch==\"c\"):\n",
    "    celcius=float(input(\"Enter temperature in Celcius: \"))\n",
    "    print(\"Temperature in Fahrenheit is :\",(celcius*9/5)+32)\n",
    "else:\n",
    "        print(\"Enter correct choice.\")\n",
    "        \n"
   ]
  },
  {
   "cell_type": "code",
   "execution_count": 30,
   "metadata": {},
   "outputs": [
    {
     "name": "stdout",
     "output_type": "stream",
     "text": [
      "['The', 'very', 'First', 'Line.']\n",
      "T v F L\n",
      "right aligned by 5->    T \n",
      "left aligned by 7->v       \n",
      "right aligned by 8->       F \n",
      "left aligned by 9->L        \n"
     ]
    }
   ],
   "source": [
    "#formatting\n",
    "str1=\"The very First Line.\"\n",
    "list1= str1.split()\n",
    "print(list1)\n",
    "print(\"{} {} {} {}\".format(list1[0][0],list1[1][0],list1[2][0],list1[3][0]))\n",
    "print(\"right aligned by 5->%5c \\nleft aligned by 7->%-7c \\nright aligned by 8->%8c \\nleft aligned by 9->%-9c\"%(list1[0][0],list1[1][0],list1[2][0],list1[3][0]))"
   ]
  },
  {
   "cell_type": "code",
   "execution_count": 6,
   "metadata": {},
   "outputs": [
    {
     "name": "stdout",
     "output_type": "stream",
     "text": [
      "1\n",
      "name\n",
      "age\n",
      "2\n",
      "Name\n"
     ]
    }
   ],
   "source": [
    "dict = {1: {\"name\": \"Hariom\",\"age\":20}, 2: {\"Name\": \"Hello\"}}\n",
    "for key, val in dict.items():\n",
    "    print(key)\n",
    "    for info in val:\n",
    "        print(info)\n",
    "    "
   ]
  },
  {
   "cell_type": "code",
   "execution_count": 8,
   "metadata": {},
   "outputs": [
    {
     "name": "stdout",
     "output_type": "stream",
     "text": [
      "10\n"
     ]
    }
   ],
   "source": [
    "class A:\n",
    "    def __init__(self):\n",
    "        self.a=10\n",
    "class B(A):\n",
    "    pass\n",
    "class C(A):\n",
    "    pass\n",
    "class D(B,C):\n",
    "    def print_a(self):\n",
    "        print(self.a)\n",
    "d =D();\n",
    "d.print_a()"
   ]
  },
  {
   "cell_type": "code",
   "execution_count": null,
   "metadata": {},
   "outputs": [],
   "source": []
  }
 ],
 "metadata": {
  "kernelspec": {
   "display_name": "Python 3",
   "language": "python",
   "name": "python3"
  },
  "language_info": {
   "codemirror_mode": {
    "name": "ipython",
    "version": 3
   },
   "file_extension": ".py",
   "mimetype": "text/x-python",
   "name": "python",
   "nbconvert_exporter": "python",
   "pygments_lexer": "ipython3",
   "version": "3.10.2"
  }
 },
 "nbformat": 4,
 "nbformat_minor": 2
}
